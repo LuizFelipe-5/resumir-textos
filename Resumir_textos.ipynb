{
  "nbformat": 4,
  "nbformat_minor": 0,
  "metadata": {
    "colab": {
      "provenance": [],
      "authorship_tag": "ABX9TyPM+v+bdafEwU/1rPhCxLJk",
      "include_colab_link": true
    },
    "kernelspec": {
      "name": "python3",
      "display_name": "Python 3"
    },
    "language_info": {
      "name": "python"
    }
  },
  "cells": [
    {
      "cell_type": "markdown",
      "metadata": {
        "id": "view-in-github",
        "colab_type": "text"
      },
      "source": [
        "<a href=\"https://colab.research.google.com/github/LuizFelipe-5/resumir-textos/blob/main/Resumir_textos.ipynb\" target=\"_parent\"><img src=\"https://colab.research.google.com/assets/colab-badge.svg\" alt=\"Open In Colab\"/></a>"
      ]
    },
    {
      "cell_type": "code",
      "execution_count": 20,
      "metadata": {
        "colab": {
          "base_uri": "https://localhost:8080/"
        },
        "id": "Bk5zzKqvWQl5",
        "outputId": "56ee2abd-dcdb-4983-c5a4-6037b4dbb923"
      },
      "outputs": [
        {
          "output_type": "stream",
          "name": "stdout",
          "text": [
            "Requirement already satisfied: google-genai in /usr/local/lib/python3.11/dist-packages (1.15.0)\n",
            "Requirement already satisfied: anyio<5.0.0,>=4.8.0 in /usr/local/lib/python3.11/dist-packages (from google-genai) (4.9.0)\n",
            "Requirement already satisfied: google-auth<3.0.0,>=2.14.1 in /usr/local/lib/python3.11/dist-packages (from google-genai) (2.38.0)\n",
            "Requirement already satisfied: httpx<1.0.0,>=0.28.1 in /usr/local/lib/python3.11/dist-packages (from google-genai) (0.28.1)\n",
            "Requirement already satisfied: pydantic<3.0.0,>=2.0.0 in /usr/local/lib/python3.11/dist-packages (from google-genai) (2.11.4)\n",
            "Requirement already satisfied: requests<3.0.0,>=2.28.1 in /usr/local/lib/python3.11/dist-packages (from google-genai) (2.32.3)\n",
            "Requirement already satisfied: websockets<15.1.0,>=13.0.0 in /usr/local/lib/python3.11/dist-packages (from google-genai) (15.0.1)\n",
            "Requirement already satisfied: typing-extensions<5.0.0,>=4.11.0 in /usr/local/lib/python3.11/dist-packages (from google-genai) (4.13.2)\n",
            "Requirement already satisfied: idna>=2.8 in /usr/local/lib/python3.11/dist-packages (from anyio<5.0.0,>=4.8.0->google-genai) (3.10)\n",
            "Requirement already satisfied: sniffio>=1.1 in /usr/local/lib/python3.11/dist-packages (from anyio<5.0.0,>=4.8.0->google-genai) (1.3.1)\n",
            "Requirement already satisfied: cachetools<6.0,>=2.0.0 in /usr/local/lib/python3.11/dist-packages (from google-auth<3.0.0,>=2.14.1->google-genai) (5.5.2)\n",
            "Requirement already satisfied: pyasn1-modules>=0.2.1 in /usr/local/lib/python3.11/dist-packages (from google-auth<3.0.0,>=2.14.1->google-genai) (0.4.2)\n",
            "Requirement already satisfied: rsa<5,>=3.1.4 in /usr/local/lib/python3.11/dist-packages (from google-auth<3.0.0,>=2.14.1->google-genai) (4.9.1)\n",
            "Requirement already satisfied: certifi in /usr/local/lib/python3.11/dist-packages (from httpx<1.0.0,>=0.28.1->google-genai) (2025.4.26)\n",
            "Requirement already satisfied: httpcore==1.* in /usr/local/lib/python3.11/dist-packages (from httpx<1.0.0,>=0.28.1->google-genai) (1.0.9)\n",
            "Requirement already satisfied: h11>=0.16 in /usr/local/lib/python3.11/dist-packages (from httpcore==1.*->httpx<1.0.0,>=0.28.1->google-genai) (0.16.0)\n",
            "Requirement already satisfied: annotated-types>=0.6.0 in /usr/local/lib/python3.11/dist-packages (from pydantic<3.0.0,>=2.0.0->google-genai) (0.7.0)\n",
            "Requirement already satisfied: pydantic-core==2.33.2 in /usr/local/lib/python3.11/dist-packages (from pydantic<3.0.0,>=2.0.0->google-genai) (2.33.2)\n",
            "Requirement already satisfied: typing-inspection>=0.4.0 in /usr/local/lib/python3.11/dist-packages (from pydantic<3.0.0,>=2.0.0->google-genai) (0.4.0)\n",
            "Requirement already satisfied: charset-normalizer<4,>=2 in /usr/local/lib/python3.11/dist-packages (from requests<3.0.0,>=2.28.1->google-genai) (3.4.2)\n",
            "Requirement already satisfied: urllib3<3,>=1.21.1 in /usr/local/lib/python3.11/dist-packages (from requests<3.0.0,>=2.28.1->google-genai) (2.4.0)\n",
            "Requirement already satisfied: pyasn1<0.7.0,>=0.6.1 in /usr/local/lib/python3.11/dist-packages (from pyasn1-modules>=0.2.1->google-auth<3.0.0,>=2.14.1->google-genai) (0.6.1)\n"
          ]
        }
      ],
      "source": [
        "!pip install google-genai"
      ]
    },
    {
      "cell_type": "code",
      "source": [
        "import os\n",
        "from google.colab import userdata\n",
        "\n",
        "os.environ['GOOGLE_API_KEY'] = userdata.get('GOOGLE_API_KEY')"
      ],
      "metadata": {
        "id": "MMHzL1CJZhAy"
      },
      "execution_count": 21,
      "outputs": []
    },
    {
      "cell_type": "code",
      "source": [
        "from google import genai\n",
        "\n",
        "client = genai.Client()"
      ],
      "metadata": {
        "id": "7sQG3aE4bXQ2"
      },
      "execution_count": 22,
      "outputs": []
    },
    {
      "cell_type": "code",
      "source": [
        "model = 'gemini-2.0-flash'"
      ],
      "metadata": {
        "id": "LAOE_jWddncS"
      },
      "execution_count": 23,
      "outputs": []
    },
    {
      "cell_type": "code",
      "source": [
        "def resumir_texto(texto):\n",
        "  prompt = f\"Gere um resumo conciso do seguinte texto: {texto}\"\n",
        "  response = client.models.generate_content(model=model, contents=prompt)\n",
        "  return response.text\n",
        "\n",
        "# Exemplo de uso\n",
        "# texto_longo = \"\"\"\n",
        "# A inteligência artificial (IA) é um campo da ciência da computação dedicado ao desenvolvimento de sistemas capazes de realizar tarefas que normalmente requerem inteligência humana. Isso inclui aprender, resolver problemas, tomar decisões e perceber o ambiente. A IA abrange diversas abordagens e técnicas, como aprendizado de máquina, redes neurais, processamento de linguagem natural e visão computacional. As aplicações da IA são vastas e estão transformando indústrias inteiras, desde a saúde e finanças até o transporte e entretenimento. À medida que a tecnologia avança, a IA continua a evoluir, prometendo um futuro onde máquinas inteligentes podem colaborar e aprimorar as capacidades humanas.\n",
        "# \"\"\"\n",
        "# texto = input('Insira o texto a ser resumido: ')\n",
        "# resumo = resumir_texto(texto)\n",
        "# print(\"Resumo:\", resumo)"
      ],
      "metadata": {
        "id": "FGWORcCxp7FJ"
      },
      "execution_count": 24,
      "outputs": []
    },
    {
      "cell_type": "code",
      "source": [
        "!pip install requests beautifulsoup4\n",
        "import requests\n",
        "from bs4 import BeautifulSoup"
      ],
      "metadata": {
        "colab": {
          "base_uri": "https://localhost:8080/"
        },
        "id": "mkuc0wGasIDE",
        "outputId": "9b3107f2-f803-4330-b7c5-0cca6d4017cc"
      },
      "execution_count": 12,
      "outputs": [
        {
          "output_type": "stream",
          "name": "stdout",
          "text": [
            "Requirement already satisfied: requests in /usr/local/lib/python3.11/dist-packages (2.32.3)\n",
            "Requirement already satisfied: beautifulsoup4 in /usr/local/lib/python3.11/dist-packages (4.13.4)\n",
            "Requirement already satisfied: charset-normalizer<4,>=2 in /usr/local/lib/python3.11/dist-packages (from requests) (3.4.2)\n",
            "Requirement already satisfied: idna<4,>=2.5 in /usr/local/lib/python3.11/dist-packages (from requests) (3.10)\n",
            "Requirement already satisfied: urllib3<3,>=1.21.1 in /usr/local/lib/python3.11/dist-packages (from requests) (2.4.0)\n",
            "Requirement already satisfied: certifi>=2017.4.17 in /usr/local/lib/python3.11/dist-packages (from requests) (2025.4.26)\n",
            "Requirement already satisfied: soupsieve>1.2 in /usr/local/lib/python3.11/dist-packages (from beautifulsoup4) (2.7)\n",
            "Requirement already satisfied: typing-extensions>=4.0.0 in /usr/local/lib/python3.11/dist-packages (from beautifulsoup4) (4.13.2)\n"
          ]
        }
      ]
    },
    {
      "cell_type": "code",
      "source": [
        "def extrair_texto_url(url):\n",
        "  try:\n",
        "    response = requests.get(url)\n",
        "    response.raise_for_status()\n",
        "    soup = BeautifulSoup(response.content, 'html.parser')\n",
        "    for script in soup([\"script\", \"style\"]):\n",
        "        script.extract()\n",
        "    text = soup.get_text()\n",
        "    lines = (line.strip() for line in text.splitlines())\n",
        "    chunks = (phrase.strip() for line in lines for phrase in line.split(\"  \"))\n",
        "    text = '\\n'.join(chunk for chunk in chunks if chunk)\n",
        "    return text\n",
        "  except requests.exceptions.RequestException as e:\n",
        "    print(f\"Erro ao acessar a URL: {e}\")\n",
        "    return None\n",
        "\n",
        "def resumir_url(url):\n",
        "  texto_url = extrair_texto_url(url)\n",
        "  if texto_url:\n",
        "    return resumir_texto(texto_url)\n",
        "  else:\n",
        "    return None\n",
        "\n",
        "# Exemplo de uso com URL:\n",
        "# url_artigo = \"https://pt.wikipedia.org/wiki/Intelig%C3%AAncia_artificial\"\n",
        "\n",
        "# url_artigo = input('Insira a URL do artigo a ser resumido: ')\n",
        "# resumo_url_gerado = resumir_url(url_artigo)\n",
        "# if resumo_url_gerado:\n",
        "#   print(\"\\nResumo da URL:\", resumo_url_gerado)\n",
        "# else:\n",
        "#   print(\"\\nNão foi possível gerar o resumo da URL.\")"
      ],
      "metadata": {
        "id": "2q3NCTj4swRX"
      },
      "execution_count": 26,
      "outputs": []
    },
    {
      "cell_type": "code",
      "source": [
        "!pip install fpdf\n",
        "from fpdf import FPDF\n",
        "\n",
        "def gerar_pdf_relatorio(resumo, nome_arquivo=\"relatorio_resumo.pdf\"):\n",
        "  \"\"\"Gera um arquivo PDF com o resumo fornecido.\"\"\"\n",
        "  pdf = FPDF()\n",
        "  pdf.add_page()\n",
        "  pdf.set_font(\"Arial\", size=12)\n",
        "  pdf.multi_cell(0, 10, resumo)\n",
        "  pdf.output(nome_arquivo)\n",
        "  print(f\"Relatório em PDF gerado: {nome_arquivo}\")"
      ],
      "metadata": {
        "colab": {
          "base_uri": "https://localhost:8080/"
        },
        "id": "SqLs1XvWs7iQ",
        "outputId": "22118129-6e25-43e1-f370-f5ba64923b19"
      },
      "execution_count": 27,
      "outputs": [
        {
          "output_type": "stream",
          "name": "stdout",
          "text": [
            "Requirement already satisfied: fpdf in /usr/local/lib/python3.11/dist-packages (1.7.2)\n"
          ]
        }
      ]
    },
    {
      "cell_type": "code",
      "source": [
        "modo_geracao = \"URL\" #@param [\"Texto\", \"URL\"]\n",
        "\n",
        "if modo_geracao == \"Texto\":\n",
        "  texto = input('Insira o texto a ser resumido: ')\n",
        "  resumo = resumir_texto(texto)\n",
        "  print(\"Resumo:\", resumo)\n",
        "  gerar_pdf_relatorio(resumo)\n",
        "elif modo_geracao == \"URL\":\n",
        "  url_artigo = input('Insira a URL do artigo a ser resumido: ')\n",
        "  resumo_url_gerado = resumir_url(url_artigo)\n",
        "  if resumo_url_gerado:\n",
        "    print(\"\\nResumo da URL:\", resumo_url_gerado)\n",
        "    gerar_pdf_relatorio(resumo_url_gerado)\n",
        "  else:\n",
        "    print(\"\\nNão foi possível gerar o resumo da URL.\")"
      ],
      "metadata": {
        "colab": {
          "base_uri": "https://localhost:8080/"
        },
        "id": "WWUsF4SOt2DA",
        "outputId": "ffc0174c-2094-4f9c-a407-1cbf3c32b3d4"
      },
      "execution_count": 29,
      "outputs": [
        {
          "output_type": "stream",
          "name": "stdout",
          "text": [
            "Insira a URL do artigo a ser resumido: https://pt.wikipedia.org/wiki/Wikip%C3%A9dia:P%C3%A1gina_principal\n",
            "\n",
            "Resumo da URL: A Wikipédia é uma enciclopédia online colaborativa, multilíngue e de acesso livre, cujo conteúdo é editado e mantido por uma comunidade de voluntários. Ela busca fornecer informações objetivas e verificáveis sob a licença Creative Commons, permitindo a reutilização do conteúdo.\n",
            "Relatório em PDF gerado: relatorio_resumo.pdf\n"
          ]
        }
      ]
    }
  ]
}