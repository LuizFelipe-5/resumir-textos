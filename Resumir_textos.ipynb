{
  "nbformat": 4,
  "nbformat_minor": 0,
  "metadata": {
    "colab": {
      "provenance": [],
      "authorship_tag": "ABX9TyOH6iK28Jv/0Fw11CZ5TTbI",
      "include_colab_link": true
    },
    "kernelspec": {
      "name": "python3",
      "display_name": "Python 3"
    },
    "language_info": {
      "name": "python"
    }
  },
  "cells": [
    {
      "cell_type": "markdown",
      "metadata": {
        "id": "view-in-github",
        "colab_type": "text"
      },
      "source": [
        "<a href=\"https://colab.research.google.com/github/LuizFelipe-5/resumir-textos/blob/main/Resumir_textos.ipynb\" target=\"_parent\"><img src=\"https://colab.research.google.com/assets/colab-badge.svg\" alt=\"Open In Colab\"/></a>"
      ]
    },
    {
      "cell_type": "code",
      "execution_count": null,
      "metadata": {
        "id": "Bk5zzKqvWQl5"
      },
      "outputs": [],
      "source": [
        "!pip install google-genai"
      ]
    },
    {
      "cell_type": "code",
      "source": [
        "import os\n",
        "from google.colab import userdata\n",
        "\n",
        "os.environ['GOOGLE_API_KEY'] = userdata.get('GOOGLE_API_KEY')"
      ],
      "metadata": {
        "id": "MMHzL1CJZhAy"
      },
      "execution_count": null,
      "outputs": []
    },
    {
      "cell_type": "code",
      "source": [
        "from google import genai\n",
        "\n",
        "client = genai.Client()"
      ],
      "metadata": {
        "id": "7sQG3aE4bXQ2"
      },
      "execution_count": null,
      "outputs": []
    },
    {
      "cell_type": "code",
      "source": [
        "model = 'gemini-2.0-flash'"
      ],
      "metadata": {
        "id": "LAOE_jWddncS"
      },
      "execution_count": null,
      "outputs": []
    },
    {
      "cell_type": "code",
      "source": [
        "def resumir_texto(texto):\n",
        "  prompt = f\"Gere um resumo conciso do seguinte texto: {texto}\"\n",
        "  response = client.models.generate_content(model=model, contents=prompt)\n",
        "  return response.text\n",
        "\n",
        "# Exemplo de uso\n",
        "# texto_longo = \"\"\"\n",
        "# A inteligência artificial (IA) é um campo da ciência da computação dedicado ao desenvolvimento de sistemas capazes de realizar tarefas que normalmente requerem inteligência humana. Isso inclui aprender, resolver problemas, tomar decisões e perceber o ambiente. A IA abrange diversas abordagens e técnicas, como aprendizado de máquina, redes neurais, processamento de linguagem natural e visão computacional. As aplicações da IA são vastas e estão transformando indústrias inteiras, desde a saúde e finanças até o transporte e entretenimento. À medida que a tecnologia avança, a IA continua a evoluir, prometendo um futuro onde máquinas inteligentes podem colaborar e aprimorar as capacidades humanas.\n",
        "# \"\"\"\n",
        "# texto = input('Insira o texto a ser resumido: ')\n",
        "# resumo = resumir_texto(texto)\n",
        "# print(\"Resumo:\", resumo)"
      ],
      "metadata": {
        "id": "FGWORcCxp7FJ"
      },
      "execution_count": null,
      "outputs": []
    },
    {
      "cell_type": "code",
      "source": [
        "!pip install requests beautifulsoup4\n",
        "import requests\n",
        "from bs4 import BeautifulSoup"
      ],
      "metadata": {
        "id": "mkuc0wGasIDE"
      },
      "execution_count": null,
      "outputs": []
    },
    {
      "cell_type": "code",
      "source": [
        "def extrair_texto_url(url):\n",
        "  try:\n",
        "    response = requests.get(url)\n",
        "    response.raise_for_status()\n",
        "    soup = BeautifulSoup(response.content, 'html.parser')\n",
        "    for script in soup([\"script\", \"style\"]):\n",
        "        script.extract()\n",
        "    text = soup.get_text()\n",
        "    lines = (line.strip() for line in text.splitlines())\n",
        "    chunks = (phrase.strip() for line in lines for phrase in line.split(\"  \"))\n",
        "    text = '\\n'.join(chunk for chunk in chunks if chunk)\n",
        "    return text\n",
        "  except requests.exceptions.RequestException as e:\n",
        "    print(f\"Erro ao acessar a URL: {e}\")\n",
        "    return None\n",
        "\n",
        "def resumir_url(url):\n",
        "  texto_url = extrair_texto_url(url)\n",
        "  if texto_url:\n",
        "    return resumir_texto(texto_url)\n",
        "  else:\n",
        "    return None\n",
        "\n",
        "# Exemplo de uso com URL:\n",
        "# url_artigo = \"https://pt.wikipedia.org/wiki/Intelig%C3%AAncia_artificial\"\n",
        "\n",
        "# url_artigo = input('Insira a URL do artigo a ser resumido: ')\n",
        "# resumo_url_gerado = resumir_url(url_artigo)\n",
        "# if resumo_url_gerado:\n",
        "#   print(\"\\nResumo da URL:\", resumo_url_gerado)\n",
        "# else:\n",
        "#   print(\"\\nNão foi possível gerar o resumo da URL.\")"
      ],
      "metadata": {
        "id": "2q3NCTj4swRX"
      },
      "execution_count": null,
      "outputs": []
    },
    {
      "cell_type": "code",
      "source": [
        "!pip install fpdf\n",
        "from fpdf import FPDF\n",
        "\n",
        "def gerar_pdf_relatorio(resumo, nome_arquivo=\"relatorio_resumo.pdf\"):\n",
        "  \"\"\"Gera um arquivo PDF com o resumo fornecido.\"\"\"\n",
        "  pdf = FPDF()\n",
        "  pdf.add_page()\n",
        "  pdf.set_font(\"Arial\", size=12)\n",
        "  pdf.multi_cell(0, 10, resumo)\n",
        "  pdf.output(nome_arquivo)\n",
        "  print(f\"\\nRelatório em PDF gerado: {nome_arquivo}\")"
      ],
      "metadata": {
        "id": "SqLs1XvWs7iQ"
      },
      "execution_count": null,
      "outputs": []
    },
    {
      "cell_type": "code",
      "source": [
        "modo_geracao = \"URL\" #@param [\"Texto\", \"URL\"]\n",
        "\n",
        "if modo_geracao == \"Texto\":\n",
        "  texto = input('Insira o texto a ser resumido: ')\n",
        "  resumo = resumir_texto(texto)\n",
        "  print(\"Resumo:\", resumo)\n",
        "  gerar_pdf_relatorio(resumo)\n",
        "elif modo_geracao == \"URL\":\n",
        "  url_artigo = input('Insira a URL do artigo a ser resumido: ')\n",
        "  resumo_url_gerado = resumir_url(url_artigo)\n",
        "  if resumo_url_gerado:\n",
        "    print(\"\\nResumo da URL:\", resumo_url_gerado)\n",
        "    gerar_pdf_relatorio(resumo_url_gerado)\n",
        "  else:\n",
        "    print(\"\\nNão foi possível gerar o resumo da URL.\")"
      ],
      "metadata": {
        "id": "WWUsF4SOt2DA"
      },
      "execution_count": null,
      "outputs": []
    }
  ]
}